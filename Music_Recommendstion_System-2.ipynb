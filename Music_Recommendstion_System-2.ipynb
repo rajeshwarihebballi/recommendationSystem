{
  "nbformat": 4,
  "nbformat_minor": 0,
  "metadata": {
    "colab": {
      "provenance": []
    },
    "kernelspec": {
      "name": "python3",
      "display_name": "Python 3"
    },
    "language_info": {
      "name": "python"
    }
  },
  "cells": [
    {
      "cell_type": "code",
      "execution_count": 1,
      "metadata": {
        "colab": {
          "base_uri": "https://localhost:8080/"
        },
        "id": "V-NH2gFcdMi5",
        "outputId": "7feb8a13-0898-4b76-d81f-ea71baaa5d9d"
      },
      "outputs": [
        {
          "output_type": "stream",
          "name": "stdout",
          "text": [
            "Access token obtained successfully.\n"
          ]
        }
      ],
      "source": [
        "import requests\n",
        "import base64\n",
        "\n",
        "# Replace with your own Client ID and Client Secret\n",
        "CLIENT_ID = '083dcf66b4be45bb8d48c3f3ad07819b'\n",
        "CLIENT_SECRET = 'f0836b13f49948109951f6dd196f17b0'\n",
        "\n",
        "# Base64 encode the client ID and client secret\n",
        "client_credentials = f\"{CLIENT_ID}:{CLIENT_SECRET}\"\n",
        "client_credentials_base64 = base64.b64encode(client_credentials.encode())\n",
        "\n",
        "# Request the access token\n",
        "token_url = 'https://accounts.spotify.com/api/token'\n",
        "headers = {\n",
        "    'Authorization': f'Basic {client_credentials_base64.decode()}'\n",
        "}\n",
        "data = {\n",
        "    'grant_type': 'client_credentials'\n",
        "}\n",
        "response = requests.post(token_url, data=data, headers=headers)\n",
        "\n",
        "if response.status_code == 200:\n",
        "    access_token = response.json()['access_token']\n",
        "    print(\"Access token obtained successfully.\")\n",
        "else:\n",
        "    print(\"Error obtaining access token.\")\n",
        "    exit()"
      ]
    },
    {
      "cell_type": "code",
      "source": [
        "pip install spotipy"
      ],
      "metadata": {
        "colab": {
          "base_uri": "https://localhost:8080/"
        },
        "id": "ZvxMRFgbdqv7",
        "outputId": "268b1c29-004e-4284-84a5-d5d9fa98704e"
      },
      "execution_count": 2,
      "outputs": [
        {
          "output_type": "stream",
          "name": "stdout",
          "text": [
            "Collecting spotipy\n",
            "  Downloading spotipy-2.24.0-py3-none-any.whl (30 kB)\n",
            "Collecting redis>=3.5.3 (from spotipy)\n",
            "  Downloading redis-5.0.6-py3-none-any.whl (252 kB)\n",
            "\u001b[2K     \u001b[90m━━━━━━━━━━━━━━━━━━━━━━━━━━━━━━━━━━━━━━━━\u001b[0m \u001b[32m252.0/252.0 kB\u001b[0m \u001b[31m2.4 MB/s\u001b[0m eta \u001b[36m0:00:00\u001b[0m\n",
            "\u001b[?25hRequirement already satisfied: requests>=2.25.0 in /usr/local/lib/python3.10/dist-packages (from spotipy) (2.31.0)\n",
            "Requirement already satisfied: urllib3>=1.26.0 in /usr/local/lib/python3.10/dist-packages (from spotipy) (2.0.7)\n",
            "Requirement already satisfied: async-timeout>=4.0.3 in /usr/local/lib/python3.10/dist-packages (from redis>=3.5.3->spotipy) (4.0.3)\n",
            "Requirement already satisfied: charset-normalizer<4,>=2 in /usr/local/lib/python3.10/dist-packages (from requests>=2.25.0->spotipy) (3.3.2)\n",
            "Requirement already satisfied: idna<4,>=2.5 in /usr/local/lib/python3.10/dist-packages (from requests>=2.25.0->spotipy) (3.7)\n",
            "Requirement already satisfied: certifi>=2017.4.17 in /usr/local/lib/python3.10/dist-packages (from requests>=2.25.0->spotipy) (2024.6.2)\n",
            "Installing collected packages: redis, spotipy\n",
            "Successfully installed redis-5.0.6 spotipy-2.24.0\n"
          ]
        }
      ]
    },
    {
      "cell_type": "code",
      "source": [
        "import pandas as pd\n",
        "import spotipy\n",
        "from spotipy.oauth2 import SpotifyOAuth\n",
        "\n",
        "def get_trending_playlist_data(playlist_id, access_token):\n",
        "    # Set up Spotipy with the access token\n",
        "    sp = spotipy.Spotify(auth=access_token)\n",
        "\n",
        "    # Get the tracks from the playlist\n",
        "    playlist_tracks = sp.playlist_tracks(playlist_id, fields='items(track(id, name, artists, album(id, name)))')\n",
        "\n",
        "    # Extract relevant information and store in a list of dictionaries\n",
        "    music_data = []\n",
        "    for track_info in playlist_tracks['items']:\n",
        "        track = track_info['track']\n",
        "        track_name = track['name']\n",
        "        artists = ', '.join([artist['name'] for artist in track['artists']])\n",
        "        album_name = track['album']['name']\n",
        "        album_id = track['album']['id']\n",
        "        track_id = track['id']\n",
        "\n",
        "        # Get audio features for the track\n",
        "        audio_features = sp.audio_features(track_id)[0] if track_id != 'Not available' else None\n",
        "\n",
        "        # Get release date of the album\n",
        "        try:\n",
        "            album_info = sp.album(album_id) if album_id != 'Not available' else None\n",
        "            release_date = album_info['release_date'] if album_info else None\n",
        "        except:\n",
        "            release_date = None\n",
        "\n",
        "        # Get popularity of the track\n",
        "        try:\n",
        "            track_info = sp.track(track_id) if track_id != 'Not available' else None\n",
        "            popularity = track_info['popularity'] if track_info else None\n",
        "        except:\n",
        "            popularity = None\n",
        "\n",
        "        # Add additional track information to the track data\n",
        "        track_data = {\n",
        "            'Track Name': track_name,\n",
        "            'Artists': artists,\n",
        "            'Album Name': album_name,\n",
        "            'Album ID': album_id,\n",
        "            'Track ID': track_id,\n",
        "            'Popularity': popularity,\n",
        "            'Release Date': release_date,\n",
        "            'Duration (ms)': audio_features['duration_ms'] if audio_features else None,\n",
        "            'Explicit': track_info.get('explicit', None),\n",
        "            'External URLs': track_info.get('external_urls', {}).get('spotify', None),\n",
        "            'Danceability': audio_features['danceability'] if audio_features else None,\n",
        "            'Energy': audio_features['energy'] if audio_features else None,\n",
        "            'Key': audio_features['key'] if audio_features else None,\n",
        "            'Loudness': audio_features['loudness'] if audio_features else None,\n",
        "            'Mode': audio_features['mode'] if audio_features else None,\n",
        "            'Speechiness': audio_features['speechiness'] if audio_features else None,\n",
        "            'Acousticness': audio_features['acousticness'] if audio_features else None,\n",
        "            'Instrumentalness': audio_features['instrumentalness'] if audio_features else None,\n",
        "            'Liveness': audio_features['liveness'] if audio_features else None,\n",
        "            'Valence': audio_features['valence'] if audio_features else None,\n",
        "            'Tempo': audio_features['tempo'] if audio_features else None,\n",
        "            # Add more attributes as needed\n",
        "        }\n",
        "\n",
        "        music_data.append(track_data)\n",
        "\n",
        "    # Create a pandas DataFrame from the list of dictionaries\n",
        "    df = pd.DataFrame(music_data)\n",
        "\n",
        "    return df"
      ],
      "metadata": {
        "id": "aKWH9yXodvSy"
      },
      "execution_count": 3,
      "outputs": []
    },
    {
      "cell_type": "code",
      "source": [
        "playlist_id = '11ikvtGWHvVLIwKmpAQH8r'\n",
        "\n",
        "# Call the function to get the music data from the playlist and store it in a DataFrame\n",
        "music_df = get_trending_playlist_data(playlist_id, access_token)\n",
        "\n",
        "# Display the DataFrame\n",
        "print(music_df)"
      ],
      "metadata": {
        "colab": {
          "base_uri": "https://localhost:8080/"
        },
        "id": "zGnrTeD6d0xS",
        "outputId": "7144a2c4-0b92-4aed-8290-e0990f26d1ea"
      },
      "execution_count": 4,
      "outputs": [
        {
          "output_type": "stream",
          "name": "stdout",
          "text": [
            "                                           Track Name  \\\n",
            "0                                       Karpuragauram   \n",
            "1                                    Namami Shamishan   \n",
            "2                   Sankat Mochan Hanuman-Lofi Bhajan   \n",
            "3      Mahabharat (Krishna Theme) [Unplugged Version]   \n",
            "4                        Manojawam Maruta Tulya Vegam   \n",
            "5                                     Shani Dev Aarti   \n",
            "6   Karpur Gauram Karuna Avataram Sansar Saaram Bh...   \n",
            "7   Shri Rama Rama Rameti Mantra for Peace and Ser...   \n",
            "8                             Hanuman Chalisa (Lo-fi)   \n",
            "9                                    Nirvana Shatakam   \n",
            "10                                         Shiv Stuti   \n",
            "11                            Shiv Panchakshar Stotra   \n",
            "\n",
            "                                     Artists  \\\n",
            "0                                 Ankit Giri   \n",
            "1                            Religious India   \n",
            "2                          Rasraj Ji Maharaj   \n",
            "3                              SS Animations   \n",
            "4                            Religious India   \n",
            "5   Vishwajeet Borwankar, Priyanka Sarvadnya   \n",
            "6                               Vishal Khera   \n",
            "7                                  Mahakatha   \n",
            "8                          Rasraj Ji Maharaj   \n",
            "9                            Religious India   \n",
            "10                           Religious India   \n",
            "11                           Religious India   \n",
            "\n",
            "                                           Album Name                Album ID  \\\n",
            "0                                        Karpurgauram  7nunRN6vqRn45qFoIYJA77   \n",
            "1                                    Namami Shamishan  3fNfYVLVvJAakhiI2Ukxxz   \n",
            "2                   Sankat Mochan Hanuman-Lofi Bhajan  6AQiQ43MVOhczM4f5Q3OXZ   \n",
            "3      Mahabharat (Krishna Theme) [Unplugged Version]  1DWwA7NQMODyYTHGTpXubv   \n",
            "4                        Manojawam Maruta Tulya Vegam  1KB1rUEnSWwKyhmFifGJS2   \n",
            "5                                     Shani Dev Aarti  2mTkoXT8I7sTi6n5M2Ykxn   \n",
            "6   Shivratri Ka Tyohar Jai Bum Bum Bhole Mahadev ...  0faN4LB4NEfHmsCGBi7xgW   \n",
            "7                   Ancient Chants from India, Vol. 6  0bJnJhzWeIs7LMHjrY2AhY   \n",
            "8                             Hanuman Chalisa (Lo-fi)  1YCovcko4mH5irIpwtZJlH   \n",
            "9                                    Nirvana Shatakam  5daR2AX9J9yhVecpj7kMB5   \n",
            "10                                         Shiv Stuti  1qXVkEuzU3keYD7IyzkJFz   \n",
            "11                            Shiv Panchakshar Stotra  6WDKvYgKnKW5K3l6CtBK3G   \n",
            "\n",
            "                  Track ID  Popularity Release Date  Duration (ms)  Explicit  \\\n",
            "0   1A8XQ51VVi7Xt6RCvtdVEY          46   2020-06-24         123697     False   \n",
            "1   3pQOhRPdlf1g3o0tek8akx          53   2024-02-23         324168     False   \n",
            "2   2BZgveEDoayDdNEpiYiwQk          54   2023-02-15         250592     False   \n",
            "3   6SwxGomX25B9sjhmpgA1Uo          40   2023-06-15          72426     False   \n",
            "4   51SDv8aBRNBnLEb540dXYt          43   2024-02-08         512019     False   \n",
            "5   3ZaU9CrWGyWfKZHy1Qbj75          45   2020-07-18         142105     False   \n",
            "6   3WLynqJaY712tUc5163Neh          49   2018-02-11          53134     False   \n",
            "7   5Gpcx6ZA84crgZGV25t59s          38   2023-04-27         261048     False   \n",
            "8   7igpahReLzGbhI2XiokrXQ          62   2023-04-04         257269     False   \n",
            "9   646x3mGqcFfrgMum5YCTbz          46   2024-03-19         244054     False   \n",
            "10  0jzNKv5kz72qlZUgAXZmux          38   2024-02-08         512026     False   \n",
            "11  620OQL1u31pVipOAQcs9yD          37   2024-04-29         161045     False   \n",
            "\n",
            "                                        External URLs  ...  Energy  Key  \\\n",
            "0   https://open.spotify.com/track/1A8XQ51VVi7Xt6R...  ...   0.199    5   \n",
            "1   https://open.spotify.com/track/3pQOhRPdlf1g3o0...  ...   0.318    8   \n",
            "2   https://open.spotify.com/track/2BZgveEDoayDdNE...  ...   0.468    5   \n",
            "3   https://open.spotify.com/track/6SwxGomX25B9sjh...  ...   0.296    1   \n",
            "4   https://open.spotify.com/track/51SDv8aBRNBnLEb...  ...   0.389   10   \n",
            "5   https://open.spotify.com/track/3ZaU9CrWGyWfKZH...  ...   0.456    1   \n",
            "6   https://open.spotify.com/track/3WLynqJaY712tUc...  ...   0.363    3   \n",
            "7   https://open.spotify.com/track/5Gpcx6ZA84crgZG...  ...   0.196    0   \n",
            "8   https://open.spotify.com/track/7igpahReLzGbhI2...  ...   0.356    1   \n",
            "9   https://open.spotify.com/track/646x3mGqcFfrgMu...  ...   0.267    1   \n",
            "10  https://open.spotify.com/track/0jzNKv5kz72qlZU...  ...   0.349    3   \n",
            "11  https://open.spotify.com/track/620OQL1u31pVipO...  ...   0.484    1   \n",
            "\n",
            "    Loudness  Mode  Speechiness  Acousticness  Instrumentalness  Liveness  \\\n",
            "0    -12.765     0       0.0373        0.9660          0.387000    0.1390   \n",
            "1    -11.799     1       0.0321        0.7410          0.000498    0.0722   \n",
            "2    -10.843     0       0.0900        0.7840          0.000000    0.1940   \n",
            "3    -15.306     1       0.0342        0.0996          0.811000    0.1330   \n",
            "4    -12.694     1       0.0370        0.8340          0.000066    0.1220   \n",
            "5    -10.610     1       0.0299        0.7750          0.000000    0.6760   \n",
            "6     -9.595     1       0.0380        0.9770          0.000006    0.1110   \n",
            "7    -14.294     1       0.0266        0.8020          0.063700    0.0590   \n",
            "8    -11.055     1       0.1930        0.8950          0.000044    0.1030   \n",
            "9    -13.640     1       0.0353        0.7520          0.000143    0.0722   \n",
            "10   -14.360     1       0.0373        0.8690          0.008800    0.1170   \n",
            "11   -12.587     1       0.0280        0.8240          0.001790    0.0968   \n",
            "\n",
            "    Valence    Tempo  \n",
            "0     0.154   80.330  \n",
            "1     0.349  134.018  \n",
            "2     0.428   74.118  \n",
            "3     0.195   75.223  \n",
            "4     0.739  179.992  \n",
            "5     0.677   94.887  \n",
            "6     0.223  122.344  \n",
            "7     0.336  159.939  \n",
            "8     0.745   95.028  \n",
            "9     0.448  133.984  \n",
            "10    0.736  179.981  \n",
            "11    0.696  137.911  \n",
            "\n",
            "[12 rows x 21 columns]\n"
          ]
        }
      ]
    },
    {
      "cell_type": "code",
      "source": [
        "print(music_df.isnull().sum())"
      ],
      "metadata": {
        "colab": {
          "base_uri": "https://localhost:8080/"
        },
        "id": "MI41_4EqfPIp",
        "outputId": "cedca7cf-b148-4506-83e2-a091e0715347"
      },
      "execution_count": 5,
      "outputs": [
        {
          "output_type": "stream",
          "name": "stdout",
          "text": [
            "Track Name          0\n",
            "Artists             0\n",
            "Album Name          0\n",
            "Album ID            0\n",
            "Track ID            0\n",
            "Popularity          0\n",
            "Release Date        0\n",
            "Duration (ms)       0\n",
            "Explicit            0\n",
            "External URLs       0\n",
            "Danceability        0\n",
            "Energy              0\n",
            "Key                 0\n",
            "Loudness            0\n",
            "Mode                0\n",
            "Speechiness         0\n",
            "Acousticness        0\n",
            "Instrumentalness    0\n",
            "Liveness            0\n",
            "Valence             0\n",
            "Tempo               0\n",
            "dtype: int64\n"
          ]
        }
      ]
    },
    {
      "cell_type": "code",
      "source": [
        "import pandas as pd\n",
        "import numpy as np\n",
        "from sklearn.model_selection import train_test_split\n",
        "from sklearn.preprocessing import MinMaxScaler\n",
        "from datetime import datetime\n",
        "from sklearn.metrics.pairwise import cosine_similarity\n",
        "\n",
        "data = music_df"
      ],
      "metadata": {
        "id": "PcChXI_OfQL6"
      },
      "execution_count": 6,
      "outputs": []
    },
    {
      "cell_type": "code",
      "source": [
        "# Function to calculate weighted popularity scores based on release date\n",
        "def calculate_weighted_popularity(release_date):\n",
        "    # Convert the release date to datetime object\n",
        "    release_date = datetime.strptime(release_date, '%Y-%m-%d')\n",
        "\n",
        "    # Calculate the time span between release date and today's date\n",
        "    time_span = datetime.now() - release_date\n",
        "\n",
        "    # Calculate the weighted popularity score based on time span (e.g., more recent releases have higher weight)\n",
        "    weight = 1 / (time_span.days + 1)\n",
        "    return weight"
      ],
      "metadata": {
        "id": "BWxGn6XHfTbm"
      },
      "execution_count": 7,
      "outputs": []
    },
    {
      "cell_type": "code",
      "source": [
        "# Normalize the music features using Min-Max scaling\n",
        "scaler = MinMaxScaler()\n",
        "music_features = music_df[['Danceability', 'Energy', 'Key',\n",
        "                           'Loudness', 'Mode', 'Speechiness', 'Acousticness',\n",
        "                           'Instrumentalness', 'Liveness', 'Valence', 'Tempo']].values\n",
        "music_features_scaled = scaler.fit_transform(music_features)"
      ],
      "metadata": {
        "id": "V6WWSfqAfWUI"
      },
      "execution_count": 8,
      "outputs": []
    },
    {
      "cell_type": "code",
      "source": [
        "# a function to get content-based recommendations based on music features\n",
        "def content_based_recommendations(input_song_name, num_recommendations=5):\n",
        "    if input_song_name not in music_df['Track Name'].values:\n",
        "        print(f\"'{input_song_name}' not found in the dataset. Please enter a valid song name.\")\n",
        "        return\n",
        "\n",
        "    # Get the index of the input song in the music DataFrame\n",
        "    input_song_index = music_df[music_df['Track Name'] == input_song_name].index[0]\n",
        "\n",
        "    # Calculate the similarity scores based on music features (cosine similarity)\n",
        "    similarity_scores = cosine_similarity([music_features_scaled[input_song_index]], music_features_scaled)\n",
        "\n",
        "    # Get the indices of the most similar songs\n",
        "    similar_song_indices = similarity_scores.argsort()[0][::-1][1:num_recommendations + 1]\n",
        "\n",
        "    # Get the names of the most similar songs based on content-based filtering\n",
        "    content_based_recommendations = music_df.iloc[similar_song_indices][['Track Name', 'Artists', 'Album Name', 'Release Date', 'Popularity']]\n",
        "\n",
        "    return content_based_recommendations"
      ],
      "metadata": {
        "id": "ezFGRtxPfZsb"
      },
      "execution_count": 9,
      "outputs": []
    },
    {
      "cell_type": "code",
      "source": [
        "# a function to get hybrid recommendations based on weighted popularity\n",
        "def hybrid_recommendations(input_song_name, num_recommendations=5, alpha=0.5):\n",
        "    if input_song_name not in music_df['Track Name'].values:\n",
        "        print(f\"'{input_song_name}' not found in the dataset. Please enter a valid song name.\")\n",
        "        return\n",
        "\n",
        "    # Get content-based recommendations\n",
        "    content_based_rec = content_based_recommendations(input_song_name, num_recommendations)\n",
        "\n",
        "    # Get the popularity score of the input song\n",
        "    popularity_score = music_df.loc[music_df['Track Name'] == input_song_name, 'Popularity'].values[0]\n",
        "\n",
        "    # Calculate the weighted popularity score\n",
        "    weighted_popularity_score = popularity_score * calculate_weighted_popularity(music_df.loc[music_df['Track Name'] == input_song_name, 'Release Date'].values[0])\n",
        "\n",
        "    # Combine content-based and popularity-based recommendations based on weighted popularity\n",
        "    hybrid_recommendations = content_based_rec\n",
        "    hybrid_recommendations = hybrid_recommendations.append({\n",
        "        'Track Name': input_song_name,\n",
        "        'Artists': music_df.loc[music_df['Track Name'] == input_song_name, 'Artists'].values[0],\n",
        "        'Album Name': music_df.loc[music_df['Track Name'] == input_song_name, 'Album Name'].values[0],\n",
        "        'Release Date': music_df.loc[music_df['Track Name'] == input_song_name, 'Release Date'].values[0],\n",
        "        'Popularity': weighted_popularity_score\n",
        "    }, ignore_index=True)\n",
        "\n",
        "    # Sort the hybrid recommendations based on weighted popularity score\n",
        "    hybrid_recommendations = hybrid_recommendations.sort_values(by='Popularity', ascending=False)\n",
        "\n",
        "    # Remove the input song from the recommendations\n",
        "    hybrid_recommendations = hybrid_recommendations[hybrid_recommendations['Track Name'] != input_song_name]\n",
        "\n",
        "\n",
        "    return hybrid_recommendations"
      ],
      "metadata": {
        "id": "9jYCgyoffcB7"
      },
      "execution_count": 10,
      "outputs": []
    },
    {
      "cell_type": "code",
      "source": [
        "input_song_name = \"Shiv Stuti\"\n",
        "recommendations = hybrid_recommendations(input_song_name, num_recommendations=5)\n",
        "print(f\"Hybrid recommended songs for '{input_song_name}':\")\n",
        "print(recommendations)\n"
      ],
      "metadata": {
        "colab": {
          "base_uri": "https://localhost:8080/"
        },
        "id": "1wDu0J4rffSv",
        "outputId": "60f6d567-8b09-4638-b517-a9f2cff9ef8c"
      },
      "execution_count": 24,
      "outputs": [
        {
          "output_type": "stream",
          "name": "stdout",
          "text": [
            "Hybrid recommended songs for 'Shiv Stuti':\n",
            "                                          Track Name          Artists  \\\n",
            "4                                   Namami Shamishan  Religious India   \n",
            "2                                   Nirvana Shatakam  Religious India   \n",
            "0                       Manojawam Maruta Tulya Vegam  Religious India   \n",
            "3  Shri Rama Rama Rameti Mantra for Peace and Ser...        Mahakatha   \n",
            "1                            Shiv Panchakshar Stotra  Religious India   \n",
            "\n",
            "                          Album Name Release Date  Popularity  \n",
            "4                   Namami Shamishan   2024-02-23        53.0  \n",
            "2                   Nirvana Shatakam   2024-03-19        46.0  \n",
            "0       Manojawam Maruta Tulya Vegam   2024-02-08        43.0  \n",
            "3  Ancient Chants from India, Vol. 6   2023-04-27        38.0  \n",
            "1            Shiv Panchakshar Stotra   2024-04-29        37.0  \n"
          ]
        }
      ]
    }
  ]
}